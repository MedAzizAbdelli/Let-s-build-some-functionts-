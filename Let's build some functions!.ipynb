{
 "cells": [
  {
   "cell_type": "code",
   "execution_count": 1,
   "id": "72f11cde",
   "metadata": {},
   "outputs": [
    {
     "name": "stdout",
     "output_type": "stream",
     "text": [
      "Question 1:\n",
      "35\n"
     ]
    }
   ],
   "source": [
    "print(\"Question 1:\")\n",
    "def max_of_two( x, y ):\n",
    "    if x > y:\n",
    "        return x\n",
    "    return y\n",
    "def max_of_three( x, y, z ):\n",
    "    return max_of_two( x, max_of_two( y, z ) )\n",
    "print(max_of_three(20, 35, 19))"
   ]
  },
  {
   "cell_type": "code",
   "execution_count": 2,
   "id": "6c012181",
   "metadata": {},
   "outputs": [
    {
     "name": "stdout",
     "output_type": "stream",
     "text": [
      "Question 2:\n",
      "Input your x: 141\n",
      "Input your y: 35\n",
      "(176, 106)\n"
     ]
    }
   ],
   "source": [
    "print(\"Question 2:\")\n",
    "x = int(input(\"Input your x: \"))\n",
    "y = int(input(\"Input your y: \"))\n",
    "def calculation(x, y):\n",
    "    return x+y,x-y\n",
    "\n",
    "print(calculation(x,y))"
   ]
  },
  {
   "cell_type": "code",
   "execution_count": 3,
   "id": "1c1f396e",
   "metadata": {},
   "outputs": [
    {
     "name": "stdout",
     "output_type": "stream",
     "text": [
      "Question 3:\n",
      "([5, 7, 9], [4, 10, 18], [5, 7, 9, 4, 10, 18])\n"
     ]
    }
   ],
   "source": [
    "print(\"Question 3:\")\n",
    "List1 = [1, 2, 3]\n",
    "List2 = [4, 5, 6]\n",
    "result1= list(map(lambda x,y : x+y,List1, List2))\n",
    "result2= list(map(lambda x,y : x*y,List1, List2))\n",
    "def my_function(List1, List2) :\n",
    "    return result1 , result2, result1 + result2\n",
    "result= list(map(my_function,(result1),(result2)))\n",
    "print(my_function(List1, List2))\n"
   ]
  },
  {
   "cell_type": "code",
   "execution_count": 4,
   "id": "95937c10",
   "metadata": {},
   "outputs": [
    {
     "name": "stdout",
     "output_type": "stream",
     "text": [
      "Question 4:\n",
      "green-yellow-blue\n",
      "['blue', 'green', 'yellow']\n"
     ]
    }
   ],
   "source": [
    "print(\"Question 4:\")\n",
    "ph = input()\n",
    "ph1 = ph.split(\"-\")\n",
    "print(sorted(ph.split(\"-\")))"
   ]
  },
  {
   "cell_type": "code",
   "execution_count": 10,
   "id": "a1610db7",
   "metadata": {},
   "outputs": [
    {
     "name": "stdout",
     "output_type": "stream",
     "text": [
      "Question 5:\n",
      "Enter two values\n",
      "100,150,180\n",
      "(18, 22, 24)\n"
     ]
    }
   ],
   "source": [
    "from math import sqrt\n",
    "print(\"Question 5:\")\n",
    "c = 50\n",
    "h = 30\n",
    "a, b, n = map(int, input(\"Enter two values\\n\").split(','))\n",
    "def sq(a,b,n):\n",
    "    return int(sqrt((2 * c * a)/h)),int(sqrt((2 * c * b)/h)) ,int(sqrt((2 * c * n)/h))\n",
    "print(sq(a,b,n))\n",
    "    "
   ]
  },
  {
   "cell_type": "code",
   "execution_count": null,
   "id": "417f4bbb",
   "metadata": {},
   "outputs": [],
   "source": []
  }
 ],
 "metadata": {
  "kernelspec": {
   "display_name": "Python 3 (ipykernel)",
   "language": "python",
   "name": "python3"
  },
  "language_info": {
   "codemirror_mode": {
    "name": "ipython",
    "version": 3
   },
   "file_extension": ".py",
   "mimetype": "text/x-python",
   "name": "python",
   "nbconvert_exporter": "python",
   "pygments_lexer": "ipython3",
   "version": "3.9.12"
  }
 },
 "nbformat": 4,
 "nbformat_minor": 5
}
